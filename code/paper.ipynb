{
 "metadata": {
  "name": "paper"
 },
 "nbformat": 3,
 "nbformat_minor": 0,
 "worksheets": [
  {
   "cells": [
    {
     "cell_type": "markdown",
     "metadata": {},
     "source": [
      "# Introduction\n",
      "This is intended to be the companion notebook to the paper.\n",
      "As such this is the place to start with if one wants to reproduce all\n",
      "the Figures and Data"
     ]
    },
    {
     "cell_type": "code",
     "collapsed": false,
     "input": [
      "repo_path='/home/forero/Dropbox/CosmicVarianceLAES/'\n",
      "lae_data_path='data/laes/FOF/'\n",
      "data_path='data/mock_survey/'\n",
      "obs_path='data/obs/'"
     ],
     "language": "python",
     "metadata": {},
     "outputs": [],
     "prompt_number": 1
    },
    {
     "cell_type": "markdown",
     "metadata": {},
     "source": [
      "## Halo Number Density (Figure 1)"
     ]
    },
    {
     "cell_type": "code",
     "collapsed": false,
     "input": [
      "obs_file = home+repo_path+obs_path+\"obs_density.dat\"\n",
      "obs_prop = loadtxt(obs_file, skiprows=4)\n",
      "N_lae_obs = obs_prop[:,1]\n",
      "inverse_mean_area = 0.204 #arcmin^(-2)\n",
      "inverse_mean_vol = 1.1e-3 # (Mpc/h)^-3\n",
      "n_lae_obs=(inverse_mean_vol/(inverse_mean_area*h*h*h))*obs_prop[:,2]\n",
      "print n_lae_obs * volume\n",
      "plot(sort(n_lae_obs))\n",
      "\n",
      "log_min_mass = arange(10.0, 12.9, 0.1)\n",
      "log_max_mass = log_min_mass + 0.1\n",
      "for m_min, m_max in zip(log_min_mass, log_max_mass):\n",
      "    filename = 'model_{0}_{1}_{2}.dat'.format(m_min, m_max, 1.0)\n",
      "    model_data = loadtxt(repo_path + lae_data_path + filename)\n",
      "#    density_data = get_density(survey, survey_ID, model_data, filling_fraction=f_occ, volume=volume)"
     ],
     "language": "python",
     "metadata": {},
     "outputs": [],
     "prompt_number": 4
    },
    {
     "cell_type": "code",
     "collapsed": false,
     "input": [],
     "language": "python",
     "metadata": {},
     "outputs": []
    }
   ],
   "metadata": {}
  }
 ]
}