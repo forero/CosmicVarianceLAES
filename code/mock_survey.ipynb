{
 "metadata": {
  "name": "mock_survey"
 },
 "nbformat": 3,
 "nbformat_minor": 0,
 "worksheets": [
  {
   "cells": [
    {
     "cell_type": "code",
     "collapsed": false,
     "input": [
      "def make_rectangle(width, height):\n",
      "    vertices = empty((5,2))\n",
      "    vertices[0,0] = 0.0\n",
      "    vertices[0,1] = 0.0\n",
      "    vertices[1,0] = width\n",
      "    vertices[1,1] = 0.0\n",
      "    vertices[2,0] = width\n",
      "    vertices[2,1] = height\n",
      "    vertices[3,0] = 0.0\n",
      "    vertices[3,1] = height\n",
      "    vertices[4,:] = vertices[0,:]\n",
      "    return vertices"
     ],
     "language": "python",
     "metadata": {},
     "outputs": [],
     "prompt_number": 21
    },
    {
     "cell_type": "code",
     "collapsed": false,
     "input": [
      "#number of subfields in each direction\n",
      "n_x = 5\n",
      "n_y = 7 \n",
      "n_z = 6\n",
      "\n",
      "delta_x = 46.0\n",
      "delta_y = 35.0\n",
      "\n",
      "basic_tiles_x = array([[0,1,0,1,0,1,0],[2,3,4,2,3,4,4],[1,0,1,0,1,0,1],[2,3,2,3,4,3,4],[2,2,3,4,2,3,4]])\n",
      "basic_tiles_y = array([[0,0,1,1,2,2,3],[0,0,0,1,1,1,2],[3,4,4,5,5,6,6],[2,2,3,3,3,4,4],[4,5,5,5,6,6,6]])"
     ],
     "language": "python",
     "metadata": {},
     "outputs": [],
     "prompt_number": 22
    },
    {
     "cell_type": "code",
     "collapsed": false,
     "input": [
      "def plot_tile(tiles_x, tiles_y, i_tile, d_x, d_y, color='red'):\n",
      "    for i_field in range(7):\n",
      "        rec_base = make_rectangle(delta_x,delta_y)\n",
      "        plot(rec_base[:,0]+tiles_x[i_tile,i_field]*d_x, rec_base[:,1]+ tiles_y[i_tile,i_field]*d_y, color=color, linewidth=8, alpha=0.7)"
     ],
     "language": "python",
     "metadata": {},
     "outputs": [],
     "prompt_number": 23
    },
    {
     "cell_type": "code",
     "collapsed": false,
     "input": [
      "x_order=arange(n_x)\n",
      "y_order=arange(n_y)\n",
      "z_order=arange(n_z)\n",
      "inverted_x = x_order[::-1]\n",
      "inverted_y = y_order[::-1]"
     ],
     "language": "python",
     "metadata": {},
     "outputs": [],
     "prompt_number": 24
    },
    {
     "cell_type": "code",
     "collapsed": false,
     "input": [
      "new_tiles_x_A = copy(basic_tiles_x)\n",
      "new_tiles_y_A = copy(basic_tiles_y)\n",
      "n_tiles = 5\n",
      "for tile in range(n_tiles):\n",
      "    new_tiles_x_A[tile,:] = copy(basic_tiles_x[tile,:])\n",
      "    new_tiles_y_A[tile,:] = copy(inverted_y[basic_tiles_y[tile,:]])"
     ],
     "language": "python",
     "metadata": {},
     "outputs": [],
     "prompt_number": 25
    },
    {
     "cell_type": "code",
     "collapsed": false,
     "input": [
      "new_tiles_x_B = copy(basic_tiles_x)\n",
      "new_tiles_y_B = copy(basic_tiles_y)\n",
      "n_tiles = 5\n",
      "for tile in range(n_tiles):\n",
      "    new_tiles_x_B[tile,:] = copy(inverted_x[basic_tiles_x[tile,:]])\n",
      "    new_tiles_y_B[tile,:] = copy(basic_tiles_y[tile,:])"
     ],
     "language": "python",
     "metadata": {},
     "outputs": [],
     "prompt_number": 26
    },
    {
     "cell_type": "code",
     "collapsed": false,
     "input": [
      "new_tiles_x_C = copy(basic_tiles_x)\n",
      "new_tiles_y_C = copy(basic_tiles_y)\n",
      "n_tiles = 5\n",
      "for tile in range(n_tiles):\n",
      "    new_tiles_x_C[tile,:] = copy(inverted_x[basic_tiles_x[tile,:]])\n",
      "    new_tiles_y_C[tile,:] = copy(inverted_y[basic_tiles_y[tile,:]])"
     ],
     "language": "python",
     "metadata": {},
     "outputs": [],
     "prompt_number": 27
    },
    {
     "cell_type": "code",
     "collapsed": false,
     "input": [
      "new_tiles_x_D = copy(basic_tiles_x)\n",
      "new_tiles_y_D = copy(basic_tiles_y)\n",
      "\n",
      "for i_tile in array([0,2]):\n",
      "    new_tiles_x_D[i_tile,:] = copy(basic_tiles_x[i_tile,:] + 3)\n",
      "    new_tiles_y_D[i_tile,:] = copy(basic_tiles_y[i_tile,:])\n",
      "\n",
      "for i_tile in array([1,3,4]):\n",
      "    new_tiles_x_D[i_tile,:] = copy(basic_tiles_x[i_tile,:] - 2)\n",
      "    new_tiles_y_D[i_tile,:] = copy(basic_tiles_y[i_tile,:])\n",
      "    "
     ],
     "language": "python",
     "metadata": {},
     "outputs": [],
     "prompt_number": 28
    },
    {
     "cell_type": "code",
     "collapsed": false,
     "input": [
      "new_tiles_x_E = copy(basic_tiles_x)\n",
      "new_tiles_y_E = copy(basic_tiles_y)\n",
      "n_fields = 5\n",
      "for field in range(n_fields):\n",
      "    new_tiles_x_E[field,:] = copy(inverted_x[new_tiles_x_D[field,:]])\n",
      "    new_tiles_y_E[field,:] = copy(inverted_y[new_tiles_y_D[field,:]])"
     ],
     "language": "python",
     "metadata": {},
     "outputs": [],
     "prompt_number": 29
    },
    {
     "cell_type": "code",
     "collapsed": false,
     "input": [
      "i_tile =0\n",
      "plot_tile(basic_tiles_x, basic_tiles_y, i_tile, delta_x, delta_y, color='black')\n",
      "plot_tile(new_tiles_x_A, new_tiles_y_A, i_tile, delta_x, delta_y, color='blue')\n",
      "plot_tile(new_tiles_x_B, new_tiles_y_B, i_tile, delta_x, delta_y, color='green')\n",
      "plot_tile(new_tiles_x_C, new_tiles_y_C, i_tile, delta_x, delta_y, color='red')\n",
      "plot_tile(new_tiles_x_D, new_tiles_y_D, i_tile, delta_x, delta_y, color='orange')\n",
      "plot_tile(new_tiles_x_E, new_tiles_y_E, i_tile, delta_x, delta_y, color='cyan')\n"
     ],
     "language": "python",
     "metadata": {},
     "outputs": [
      {
       "output_type": "display_data",
       "png": "[encoded data removed]",
       "text": [
        "<matplotlib.figure.Figure at 0x10774f4d0>"
       ]
      }
     ],
     "prompt_number": 30
    },
    {
     "cell_type": "code",
     "collapsed": false,
     "input": [
      "all_tiles_x = array([basic_tiles_x, new_tiles_x_A, new_tiles_x_B, new_tiles_x_C, new_tiles_x_D, new_tiles_x_E])\n",
      "all_tiles_y = array([basic_tiles_y, new_tiles_y_A, new_tiles_y_B, new_tiles_y_C, new_tiles_y_D, new_tiles_y_E])\n",
      "all_tiles_z = arange(n_z)"
     ],
     "language": "python",
     "metadata": {},
     "outputs": [],
     "prompt_number": 31
    },
    {
     "cell_type": "code",
     "collapsed": false,
     "input": [
      "#finally dump all the IDs for the fields in the different surveys mimicking the observation\n",
      "outputfile = 'ID_surveys.dat'\n",
      "out = open(outputfile, \"w\")\n",
      "out.write(\"#ID_survey field_ID i j k\\n\")\n",
      "ID_survey = 0\n",
      "for i_z in all_tiles_z:    # loop over the slices in Z\n",
      "    for i_tile in range(5): # loop over the tiles defined in the X-Y plane\n",
      "        # define a unique ID for each field in the volume\n",
      "        for i_field in range(7): # these are the fields in the japanese surveys\n",
      "            index_i = all_tiles_x[i_z, i_tile, i_field]\n",
      "            index_j = all_tiles_y[i_z, i_tile, i_field]\n",
      "            index_k = i_z\n",
      "            field_ID = index_k + n_z*(index_j + (n_y * index_i))\n",
      "            #print ID_survey, field_ID, index_i, index_j, index_k\n",
      "            out.write(\"%d %d %d %d %d\\n\" % (ID_survey, field_ID, index_i, index_j, index_k))\n",
      "        for i_field in range(3): #tthree correlated fields\n",
      "            index_i = (all_tiles_x[i_z, i_tile, i_field] + 1)%n_x\n",
      "            index_j = (all_tiles_y[i_z, i_tile, i_field] + 1 + i_field)%n_y\n",
      "            index_k = (i_z + 2)%n_z\n",
      "            field_ID = index_k + n_z*(index_j + (n_y * index_i))\n",
      "            #print 'corr', ID_survey, field_ID, index_i, index_j, index_k\n",
      "            out.write(\"%d %d %d %d %d\\n\" % (ID_survey, field_ID, index_i, index_j, index_k))\n",
      "        for i_field in range(2): #two uncorrelated fields\n",
      "            index_i = (all_tiles_x[i_z, i_tile, i_field] - 1)%n_x\n",
      "            index_j = (all_tiles_y[i_z, i_tile, i_field] - 1)%n_y\n",
      "            index_k = (i_z + 2 + i_field)%n_z\n",
      "            field_ID = index_k + n_z*(index_j + (n_y * index_i))\n",
      "            #print 'uncorr', ID_survey, field_ID, index_i, index_j, index_k\n",
      "            out.write(\"%d %d %d %d %d\\n\" % (ID_survey, field_ID, index_i, index_j, index_k))\n",
      "        ID_survey = ID_survey + 1\n",
      "        \n",
      "out.close()\n",
      "        "
     ],
     "language": "python",
     "metadata": {},
     "outputs": [],
     "prompt_number": 32
    },
    {
     "cell_type": "code",
     "collapsed": false,
     "input": [
      "#dump a list of surveys with random sub-boxes but with the same number of fields\n",
      "outputfile = 'ID_random_surveys.dat'\n",
      "out = open(outputfile, \"w\")\n",
      "out.write(\"#ID_survey field_ID i j k\\n\")\n",
      "ID_survey = 0\n",
      "for i_z in all_tiles_z:    # loop over the slices in Z\n",
      "    for i_tile in range(5): # loop over the tiles defined in the X-Y plane\n",
      "        # define a unique ID for each field in the volume\n",
      "        for i_field in range(12): # pick 12 random fields\n",
      "            index_i = random.choice(x_order)\n",
      "            index_j = random.choice(y_order)\n",
      "            index_k = random.choice(z_order)\n",
      "            field_ID = index_k + n_z*(index_j + (n_y * index_i))\n",
      "            #print ID_survey, field_ID, index_i, index_j, index_k\n",
      "            out.write(\"%d %d %d %d %d\\n\" % (ID_survey, field_ID, index_i, index_j, index_k))\n",
      "        ID_survey = ID_survey + 1\n",
      "out.close()\n",
      "        "
     ],
     "language": "python",
     "metadata": {},
     "outputs": [],
     "prompt_number": 37
    },
    {
     "cell_type": "code",
     "collapsed": false,
     "input": [
      "#dump a list of surveys with random\n",
      "outputfile = 'ID_full_surveys.dat'\n",
      "out = open(outputfile, \"w\")\n",
      "out.write(\"#ID_survey field_ID i j k\\n\")\n",
      "ID_survey = 0\n",
      "for index_k in range(n_z):    # loop over the slices in Z\n",
      "    for index_j in range(n_y): \n",
      "        for  index_i in range(n_x): \n",
      "            field_ID = index_k + n_z*(index_j + (n_y * index_i))\n",
      "            #print ID_survey, field_ID, index_i, index_j, index_k\n",
      "            out.write(\"%d %d %d %d %d\\n\" % (ID_survey, field_ID, index_i, index_j, index_k))\n",
      "out.close()"
     ],
     "language": "python",
     "metadata": {},
     "outputs": [],
     "prompt_number": 36
    },
    {
     "cell_type": "code",
     "collapsed": false,
     "input": [],
     "language": "python",
     "metadata": {},
     "outputs": []
    }
   ],
   "metadata": {}
  }
 ]
}