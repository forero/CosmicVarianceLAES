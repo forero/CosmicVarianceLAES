{
 "metadata": {
  "name": "mock_survey"
 },
 "nbformat": 3,
 "nbformat_minor": 0,
 "worksheets": [
  {
   "cells": [
    {
     "cell_type": "code",
     "collapsed": false,
     "input": [
      "def make_rectangle(width, height):\n",
      "    vertices = empty((5,2))\n",
      "    vertices[0,0] = 0.0\n",
      "    vertices[0,1] = 0.0\n",
      "    vertices[1,0] = width\n",
      "    vertices[1,1] = 0.0\n",
      "    vertices[2,0] = width\n",
      "    vertices[2,1] = height\n",
      "    vertices[3,0] = 0.0\n",
      "    vertices[3,1] = height\n",
      "    vertices[4,:] = vertices[0,:]\n",
      "    return vertices"
     ],
     "language": "python",
     "metadata": {},
     "outputs": [],
     "prompt_number": 27
    },
    {
     "cell_type": "code",
     "collapsed": false,
     "input": [
      "n_x = 4\n",
      "n_y = 6\n",
      "delta_x = 45.2\n",
      "delta_y = 50.3\n",
      "for i in range(n_x):\n",
      "    for j in range(n_y):\n",
      "        rec_base = make_rectangle(delta_x,delta_y)\n",
      "        plot(rec_base[:,0]+i*delta_x, rec_base[:,1]+ j*delta_y)"
     ],
     "language": "python",
     "metadata": {},
     "outputs": [
      {
       "output_type": "display_data",
       "png": "[encoded data removed]",
       "text": [
        "<matplotlib.figure.Figure at 0x1050717d0>"
       ]
      }
     ],
     "prompt_number": 49
    },
    {
     "cell_type": "code",
     "collapsed": false,
     "input": [
      "#number of subfields in each direction\n",
      "n_x = 5\n",
      "n_y = 7 \n",
      "n_z = 6\n",
      "\n",
      "basic_fields_x = array([[0,1,0,1,0,1,0],[2,3,4,2,3,4,4],[1,0,1,0,1,0,1],[2,3,2,3,4,3,4],[2,2,3,4,2,3,4]])\n",
      "basic_fields_y = array([[0,0,1,1,2,2,3],[0,0,0,1,1,1,2],[3,4,4,5,5,6,6],[2,2,3,3,3,4,4],[4,5,5,5,6,6,6]])\n"
     ],
     "language": "python",
     "metadata": {},
     "outputs": [],
     "prompt_number": 50
    },
    {
     "cell_type": "code",
     "collapsed": false,
     "input": [
      "tile = 4\n",
      "for i in range(7):\n",
      "    rec_base = make_rectangle(delta_x,delta_y)\n",
      "    plot(rec_base[:,0]+basic_fields_x[tile,i]*delta_x, rec_base[:,1]+ basic_fields_y[tile,i]*delta_y, color='red')"
     ],
     "language": "python",
     "metadata": {},
     "outputs": [
      {
       "output_type": "display_data",
       "png": "[encoded data removed]",
       "text": [
        "<matplotlib.figure.Figure at 0x1051c4890>"
       ]
      }
     ],
     "prompt_number": 59
    },
    {
     "cell_type": "code",
     "collapsed": false,
     "input": [
      "z=arange(7)"
     ],
     "language": "python",
     "metadata": {},
     "outputs": [],
     "prompt_number": 60
    },
    {
     "cell_type": "code",
     "collapsed": false,
     "input": [
      "new_z = z[::-1]\n",
      "new_z[z]"
     ],
     "language": "python",
     "metadata": {},
     "outputs": [
      {
       "output_type": "pyout",
       "prompt_number": 73,
       "text": [
        "array([6, 5, 4, 3, 2, 1, 0])"
       ]
      }
     ],
     "prompt_number": 73
    },
    {
     "cell_type": "code",
     "collapsed": false,
     "input": [
      "new_fields_y = new_z[basic_fields_y[0,:]]\n",
      "print new_fields_y"
     ],
     "language": "python",
     "metadata": {},
     "outputs": [
      {
       "output_type": "stream",
       "stream": "stdout",
       "text": [
        "[6 6 5 5 4 4 3]\n"
       ]
      }
     ],
     "prompt_number": 81
    },
    {
     "cell_type": "code",
     "collapsed": false,
     "input": [
      "new_z"
     ],
     "language": "python",
     "metadata": {},
     "outputs": [
      {
       "output_type": "pyout",
       "prompt_number": 67,
       "text": [
        "array([0, 1, 2, 3, 4, 5, 0])"
       ]
      }
     ],
     "prompt_number": 67
    },
    {
     "cell_type": "code",
     "collapsed": false,
     "input": [],
     "language": "python",
     "metadata": {},
     "outputs": []
    }
   ],
   "metadata": {}
  }
 ]
}