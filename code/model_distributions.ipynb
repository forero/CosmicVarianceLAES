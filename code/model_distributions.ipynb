{
 "metadata": {
  "name": "model_distributions"
 },
 "nbformat": 3,
 "nbformat_minor": 0,
 "worksheets": [
  {
   "cells": [
    {
     "cell_type": "code",
     "collapsed": false,
     "input": [
      "home='/home/forero/'\n",
      "repo_path='Dropbox/CosmicVarianceLAES/'\n",
      "lae_data_path='data/laes/FOF/'\n",
      "data_path='data/mock_survey/'\n",
      "obs_path='data/obs/'\n",
      "from scipy import stats as st"
     ],
     "language": "python",
     "metadata": {},
     "outputs": [],
     "prompt_number": 1
    },
    {
     "cell_type": "code",
     "collapsed": false,
     "input": [
      "h=0.7\n",
      "n_x = 5\n",
      "n_y = 7\n",
      "n_z = 6\n",
      "x_width=46.0\n",
      "y_width=35.0\n",
      "z_depth=41.0\n",
      "volume = x_width * y_width * z_depth"
     ],
     "language": "python",
     "metadata": {},
     "outputs": [],
     "prompt_number": 2
    },
    {
     "cell_type": "code",
     "collapsed": false,
     "input": [
      "def ks_test_survey(ID_survey_filename, lae_obs, model_data, filling_fraction=1.0, volume=1.0):\n",
      "\n",
      "    #extracts the model data I care about\n",
      "    field_ID_model = int_(model_data[:,0])\n",
      "    int_i_model = int_(model_data[:,1])\n",
      "    int_j_model = int_(model_data[:,2])\n",
      "    int_k_model = int_(model_data[:,3])\n",
      "    n_halo_model = int_(model_data[:,4])\n",
      "    #field_ID_model = int_k_model + n_z * (int_j_model + (n_y * int_i_model))\n",
      "  \n",
      "    #load all data describing the fields that compose the different surveys \n",
      "    survey_data = loadtxt(ID_survey_filename)\n",
      "    survey_ID_list = int_(survey_data[:,0])\n",
      "    \n",
      "    #count the total number of surveys included here\n",
      "    index = where(survey_ID_list==survey_ID_list[0])\n",
      "    n_surveys = survey_data.size/size(survey_data[0,:])/size(index)\n",
      "\n",
      "    p_value = zeros(n_surveys)\n",
      "    for survey_ID in range(n_surveys):        \n",
      "        #select the data for the fields with a given survey ID\n",
      "        index = where(survey_ID_list==survey_ID)\n",
      "        my_survey = survey_data[index[0],:]\n",
      "        field_ID_list = int_(my_survey[:,1])\n",
      "        field_i_list = int_(my_survey[:,2])\n",
      "        field_j_list = int_(my_survey[:,3])\n",
      "        field_k_list = int_(my_survey[:,4])\n",
      "    \n",
      "        #find the halo numbers for each field in all the fields of the survey\n",
      "        field_nhalo_list = zeros(field_ID_list.size)\n",
      "        for i_field in range(field_ID_list.size):\n",
      "            index = where(field_ID_model==field_ID_list[i_field])\n",
      "            index = index[0]\n",
      "            field_nhalo_list[i_field] = n_halo_model[index]\n",
      "            \n",
      "        n_lae_theory = filling_fraction * field_nhalo_list/volume\n",
      "        distance,p_value[survey_ID]=st.ks_2samp(n_lae_theory, lae_obs)\n",
      "    return p_value"
     ],
     "language": "python",
     "metadata": {},
     "outputs": [],
     "prompt_number": 3
    },
    {
     "cell_type": "code",
     "collapsed": false,
     "input": [
      "#load the observational data and convert everything into volumetric densities\n",
      "obs_file = home+repo_path+obs_path+\"obs_density.dat\"\n",
      "obs_prop = loadtxt(obs_file, skiprows=4)\n",
      "N_lae_obs = obs_prop[:,1]\n",
      "inverse_mean_area = 0.204 #arcmin^(-2)\n",
      "inverse_mean_vol = 1.1e-3 # (Mpc/h)^-3\n",
      "n_lae_obs=(inverse_mean_vol/(inverse_mean_area*h*h*h))*obs_prop[:,2]\n",
      "print n_lae_obs * volume\n",
      "plot(sort(n_lae_obs))"
     ],
     "language": "python",
     "metadata": {},
     "outputs": [
      {
       "output_type": "stream",
       "stream": "stdout",
       "text": [
        "[ 450.36834734  252.16476591  277.06992797  279.14535814  299.89965986\n",
        "  204.42987195  288.48479392  264.61734694  194.05272109  136.97839136\n",
        "  240.74989996  213.76930772]\n"
       ]
      },
      {
       "output_type": "pyout",
       "prompt_number": 4,
       "text": [
        "[<matplotlib.lines.Line2D at 0x3df5210>]"
       ]
      },
      {
       "output_type": "display_data",
       "png": "[encoded data removed]",
       "text": [
        "<matplotlib.figure.Figure at 0x378be90>"
       ]
      }
     ],
     "prompt_number": 4
    },
    {
     "cell_type": "code",
     "collapsed": false,
     "input": [
      "def get_p_values(full_lae_data_path, full_data_path, survey_filename, filling_fraction, log_min_mass, log_max_mass):\n",
      "    filenameout='p_values_'+survey_filename\n",
      "    out = open(full_data_path+filenameout, \"w\")\n",
      "    out.write(\"#m_min m_max f_occ survey_ID p_value\\n\")\n",
      "    p_values = empty((0))\n",
      "    for i in range(log_min_mass.size):\n",
      "        for j in range(i,log_max_mass.size):\n",
      "            m_min = log_min_mass[i]\n",
      "            m_max = log_max_mass[j]\n",
      "            filename = 'model_{0}_{1}_{2}.dat'.format(m_min, m_max, 1.0)\n",
      "            model = loadtxt(full_lae_data_path+filename)\n",
      "            for f_occ in filling_fraction:\n",
      "                tmp_p_values = ks_test_survey(full_data_path+survey_filename, n_lae_obs, model, filling_fraction=f_occ, volume=volume)\n",
      "                n_survey = tmp_p_values.size\n",
      "                for survey_ID in range(n_survey):\n",
      "                    out.write(\"%f %f %f %d %e\\n\"%(m_min, m_max, f_occ, survey_ID, tmp_p_values[survey_ID]))\n",
      "                    p_values = append(p_values, tmp_p_values)\n",
      "    out.close()\n",
      "         "
     ],
     "language": "python",
     "metadata": {},
     "outputs": [],
     "prompt_number": 7
    },
    {
     "cell_type": "code",
     "collapsed": false,
     "input": [
      "survey_filename= \"ID_match_surveys.dat\"\n",
      "full_data_path = home + repo_path + data_path\n",
      "full_lae_data_path = home+repo_path+lae_data_path\n",
      "filling_fraction = arange(0.1,1.1,0.1)\n",
      "log_min_mass = arange(10.0, 12.9, 0.1)\n",
      "log_max_mass = log_min_mass + 0.1\n",
      "get_p_values(full_lae_data_path, full_data_path, survey_filename, filling_fraction, log_min_mass, log_max_mass)"
     ],
     "language": "python",
     "metadata": {},
     "outputs": [],
     "prompt_number": 8
    },
    {
     "cell_type": "code",
     "collapsed": false,
     "input": [
      "survey_filename=\"ID_random_surveys.dat\"\n",
      "full_data_path = home + repo_path + data_path\n",
      "full_lae_data_path = home+repo_path+lae_data_path\n",
      "filling_fraction = arange(0.1,1.1,0.1)\n",
      "log_min_mass = arange(10.0, 12.9, 0.1)\n",
      "log_max_mass = log_min_mass + 0.1\n",
      "get_p_values(full_lae_data_path, full_data_path, survey_filename, filling_fraction, log_min_mass, log_max_mass)"
     ],
     "language": "python",
     "metadata": {},
     "outputs": [],
     "prompt_number": 9
    },
    {
     "cell_type": "code",
     "collapsed": false,
     "input": [
      "survey_filename=\"ID_full_surveys.dat\"\n",
      "full_data_path = home + repo_path + data_path\n",
      "full_lae_data_path = home+repo_path+lae_data_path\n",
      "filling_fraction = arange(0.1,1.1,0.1)\n",
      "log_min_mass = arange(10.0, 12.9, 0.1)\n",
      "log_max_mass = log_min_mass + 0.1\n",
      "get_p_values(full_lae_data_path, full_data_path, survey_filename, filling_fraction, log_min_mass, log_max_mass)"
     ],
     "language": "python",
     "metadata": {},
     "outputs": [],
     "prompt_number": 10
    },
    {
     "cell_type": "markdown",
     "metadata": {},
     "source": [
      "% "
     ]
    },
    {
     "cell_type": "code",
     "collapsed": false,
     "input": [
      "def get_density(ID_survey_filename, lae_obs, model_data, filling_fraction=1.0, volume=1.0):\n",
      "\n",
      "    #extracts the model data I care about\n",
      "    field_ID_model = int_(model_data[:,0])\n",
      "    int_i_model = int_(model_data[:,1])\n",
      "    int_j_model = int_(model_data[:,2])\n",
      "    int_k_model = int_(model_data[:,3])\n",
      "    n_halo_model = int_(model_data[:,4])\n",
      "    #field_ID_model = int_k_model + n_z * (int_j_model + (n_y * int_i_model))\n",
      "  \n",
      "    #load all data describing the fields that compose the different surveys \n",
      "    survey_data = loadtxt(ID_survey_filename)\n",
      "    survey_ID_list = int_(survey_data[:,0])\n",
      "    \n",
      "    #count the total number of surveys included here\n",
      "    index = where(survey_ID_list==survey_ID_list[0])\n",
      "    n_surveys = survey_data.size/size(survey_data[0,:])/size(index)\n",
      "    #select the data for the fields with a given survey ID\n",
      "    index = where(survey_ID_list==survey_ID)\n",
      "    my_survey = survey_data[index[0],:]\n",
      "    field_ID_list = int_(my_survey[:,1])\n",
      "    field_i_list = int_(my_survey[:,2])\n",
      "    field_j_list = int_(my_survey[:,3])\n",
      "    field_k_list = int_(my_survey[:,4])\n",
      "    \n",
      "    #find the halo numbers for each field in all the fields of the survey\n",
      "    field_nhalo_list = zeros(field_ID_list.size)\n",
      "    for i_field in range(field_ID_list.size):\n",
      "        index = where(field_ID_model==field_ID_list[i_field])\n",
      "        index = index[0]\n",
      "        field_nhalo_list[i_field] = n_halo_model[index]\n",
      "    n_lae_theory = filling_fraction * field_nhalo_list/volume\n",
      "    return n_lae_theory"
     ],
     "language": "python",
     "metadata": {},
     "outputs": [],
     "prompt_number": 30
    },
    {
     "cell_type": "code",
     "collapsed": false,
     "input": [
      "m_min=10.8\n",
      "m_max=12.2\n",
      "f_occ=0.2\n",
      "filename = 'model_{0}_{1}_{2}.dat'.format(m_min, m_max, 1.0)\n",
      "model_data = loadtxt(repo_path+data_path+filename)\n",
      "survey='ID_full_surveys.dat'\n",
      "survey_ID=0\n",
      "density_data = get_density(survey, survey_ID, model_data, filling_fraction=f_occ, volume=volume)"
     ],
     "language": "python",
     "metadata": {},
     "outputs": [],
     "prompt_number": 84
    },
    {
     "cell_type": "code",
     "collapsed": false,
     "input": [
      "density_data = sort(density_data)\n",
      "delta = 1.0/density_data.size\n",
      "rank = 1.0-arange(0.0,1.0,delta)\n",
      "\n",
      "n_lae_obs = sort(n_lae_obs)\n",
      "delta_obs = 1.0/n_lae_obs.size\n",
      "rank_obs = 1.0 - arange(0.0,1.0,delta_obs)\n",
      "\n",
      "plot(density_data, rank)\n",
      "plot(n_lae_obs, rank_obs)\n"
     ],
     "language": "python",
     "metadata": {},
     "outputs": [
      {
       "output_type": "pyout",
       "prompt_number": 85,
       "text": [
        "[<matplotlib.lines.Line2D at 0x112ca4ad0>]"
       ]
      },
      {
       "output_type": "display_data",
       "png": "[encoded data removed]",
       "text": [
        "<matplotlib.figure.Figure at 0x112ca4bd0>"
       ]
      }
     ],
     "prompt_number": 85
    },
    {
     "cell_type": "code",
     "collapsed": false,
     "input": [],
     "language": "python",
     "metadata": {},
     "outputs": [],
     "prompt_number": 67
    },
    {
     "cell_type": "code",
     "collapsed": false,
     "input": [],
     "language": "python",
     "metadata": {},
     "outputs": []
    }
   ],
   "metadata": {}
  }
 ]
}