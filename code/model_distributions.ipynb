{
 "metadata": {
  "name": "model_distributions"
 },
 "nbformat": 3,
 "nbformat_minor": 0,
 "worksheets": [
  {
   "cells": [
    {
     "cell_type": "code",
     "collapsed": false,
     "input": [
      "repo_path=\"/Users/forero/Dropbox/BolshoiLAEs/\"\n",
      "obs_path=\"Database/\"\n",
      "data_path=\"Database/data/LAES_model/\"\n",
      "from scipy import stats as st"
     ],
     "language": "python",
     "metadata": {},
     "outputs": [],
     "prompt_number": 15
    },
    {
     "cell_type": "code",
     "collapsed": false,
     "input": [
      "h=0.7\n",
      "n_x = 5\n",
      "n_y = 7\n",
      "n_z = 6\n",
      "x_width=46.0\n",
      "y_width=35.0\n",
      "z_depth=41.0\n",
      "volume = x_width * y_width * z_depth"
     ],
     "language": "python",
     "metadata": {},
     "outputs": [],
     "prompt_number": 16
    },
    {
     "cell_type": "code",
     "collapsed": false,
     "input": [
      "def ks_test_survey(ID_survey_filename, lae_obs, model_data, filling_fraction=1.0, volume=1.0):\n",
      "\n",
      "    #extracts the model data I care about\n",
      "    field_ID_model = int_(model_data[:,0])\n",
      "    int_i_model = int_(model_data[:,1])\n",
      "    int_j_model = int_(model_data[:,2])\n",
      "    int_k_model = int_(model_data[:,3])\n",
      "    n_halo_model = int_(model_data[:,4])\n",
      "    #field_ID_model = int_k_model + n_z * (int_j_model + (n_y * int_i_model))\n",
      "  \n",
      "    #load all data describing the fields that compose the different surveys \n",
      "    survey_data = loadtxt(ID_survey_filename)\n",
      "    survey_ID_list = int_(survey_data[:,0])\n",
      "    \n",
      "    #count the total number of surveys included here\n",
      "    index = where(survey_ID_list==survey_ID_list[0])\n",
      "    n_surveys = survey_data.size/size(survey_data[0,:])/size(index)\n",
      "\n",
      "    p_value = zeros(n_surveys)\n",
      "    for survey_ID in range(n_surveys):        \n",
      "        #select the data for the fields with a given survey ID\n",
      "        index = where(survey_ID_list==survey_ID)\n",
      "        my_survey = survey_data[index[0],:]\n",
      "        field_ID_list = int_(my_survey[:,1])\n",
      "        field_i_list = int_(my_survey[:,2])\n",
      "        field_j_list = int_(my_survey[:,3])\n",
      "        field_k_list = int_(my_survey[:,4])\n",
      "    \n",
      "        #find the halo numbers for each field in all the fields of the survey\n",
      "        field_nhalo_list = zeros(field_ID_list.size)\n",
      "        for i_field in range(field_ID_list.size):\n",
      "            index = where(field_ID_model==field_ID_list[i_field])\n",
      "            index = index[0]\n",
      "            field_nhalo_list[i_field] = n_halo_model[index]\n",
      "            n_lae_theory = filling_fraction * field_nhalo_list/volume\n",
      "        distance,p_value[survey_ID]=st.ks_2samp(n_lae_theory, lae_obs)\n",
      "    return p_value"
     ],
     "language": "python",
     "metadata": {},
     "outputs": [],
     "prompt_number": 17
    },
    {
     "cell_type": "code",
     "collapsed": false,
     "input": [
      "#load the observational data and convert everything into volumetric densities\n",
      "obs_file = repo_path+obs_path+\"obs_density.dat\"\n",
      "obs_prop = loadtxt(obs_file, skiprows=4)\n",
      "N_lae_obs = obs_prop[:,1]\n",
      "inverse_mean_area = 0.204 #arcmin^(-2)\n",
      "inverse_mean_vol = 1.1e-3 # (Mpc/h)^-3\n",
      "n_lae_obs=(inverse_mean_vol/(inverse_mean_area*h*h*h))*obs_prop[:,2]\n",
      "print n_lae_obs * volume\n",
      "plot(sort(n_lae_obs))"
     ],
     "language": "python",
     "metadata": {},
     "outputs": [
      {
       "output_type": "stream",
       "stream": "stdout",
       "text": [
        "[ 450.36834734  252.16476591  277.06992797  279.14535814  299.89965986\n",
        "  204.42987195  288.48479392  264.61734694  194.05272109  136.97839136\n",
        "  240.74989996  213.76930772]\n"
       ]
      },
      {
       "output_type": "pyout",
       "prompt_number": 18,
       "text": [
        "[<matplotlib.lines.Line2D at 0x10a66e2d0>]"
       ]
      },
      {
       "output_type": "display_data",
       "png": "[encoded data removed]",
       "text": [
        "<matplotlib.figure.Figure at 0x10a3f6310>"
       ]
      }
     ],
     "prompt_number": 18
    },
    {
     "cell_type": "code",
     "collapsed": false,
     "input": [
      "survey_filename=\"ID_full_survey.dat\"\n",
      "\n",
      "filling_fraction = arange(0.1,1.1,0.1)\n",
      "log_min_mass = arange(10.0, 12.8, 0.2)\n",
      "log_max_mass = log_min_mass + 0.2\n",
      "\n",
      "print filling_fraction"
     ],
     "language": "python",
     "metadata": {},
     "outputs": [
      {
       "output_type": "stream",
       "stream": "stdout",
       "text": [
        "[ 0.1  0.2  0.3  0.4  0.5  0.6  0.7  0.8  0.9  1. ]\n"
       ]
      }
     ],
     "prompt_number": 19
    },
    {
     "cell_type": "code",
     "collapsed": false,
     "input": [
      "filenameout='full_p_data.dat'\n",
      "out = open(filenameout, \"w\")\n",
      "p_values = empty((0))\n",
      "for i in range(log_min_mass.size):\n",
      "    for j in range(i,log_max_mass.size):\n",
      "        m_min = log_min_mass[i]\n",
      "        m_max = log_max_mass[j]\n",
      "        filename = 'model_{0}_{1}_{2}.dat'.format(m_min, m_max, 1.0)\n",
      "        print filename\n",
      "        model = loadtxt(repo_path+data_path+filename)\n",
      "        for f_occ in filling_fraction:\n",
      "            tmp_p_values = ks_test_survey(survey_filename, n_lae_obs, model, filling_fraction=f_occ, volume=volume)\n",
      "            n_survey = tmp_p_values.size\n",
      "            for survey_ID in range(n_survey):\n",
      "                out.write(\"%f %f %f %d %e\\n\"%(m_min, m_max, f_occ, survey_ID, tmp_p_values[survey_ID]))\n",
      "                p_values = append(p_values, tmp_p_values)\n",
      "out.close()\n",
      "         "
     ],
     "language": "python",
     "metadata": {},
     "outputs": [
      {
       "output_type": "stream",
       "stream": "stdout",
       "text": [
        "model_10.0_10.2_1.0.dat\n",
        "model_10.0_10.4_1.0.dat"
       ]
      },
      {
       "output_type": "stream",
       "stream": "stdout",
       "text": [
        "\n",
        "model_10.0_10.6_1.0.dat"
       ]
      },
      {
       "output_type": "stream",
       "stream": "stdout",
       "text": [
        "\n",
        "model_10.0_10.8_1.0.dat"
       ]
      },
      {
       "output_type": "stream",
       "stream": "stdout",
       "text": [
        "\n",
        "model_10.0_11.0_1.0.dat"
       ]
      },
      {
       "output_type": "stream",
       "stream": "stdout",
       "text": [
        "\n",
        "model_10.0_11.2_1.0.dat"
       ]
      },
      {
       "output_type": "stream",
       "stream": "stdout",
       "text": [
        "\n",
        "model_10.0_11.4_1.0.dat"
       ]
      },
      {
       "output_type": "stream",
       "stream": "stdout",
       "text": [
        "\n",
        "model_10.0_11.6_1.0.dat"
       ]
      },
      {
       "output_type": "stream",
       "stream": "stdout",
       "text": [
        "\n",
        "model_10.0_11.8_1.0.dat"
       ]
      },
      {
       "output_type": "stream",
       "stream": "stdout",
       "text": [
        "\n",
        "model_10.0_12.0_1.0.dat"
       ]
      },
      {
       "output_type": "stream",
       "stream": "stdout",
       "text": [
        "\n",
        "model_10.0_12.2_1.0.dat"
       ]
      },
      {
       "output_type": "stream",
       "stream": "stdout",
       "text": [
        "\n",
        "model_10.0_12.4_1.0.dat"
       ]
      },
      {
       "output_type": "stream",
       "stream": "stdout",
       "text": [
        "\n",
        "model_10.0_12.6_1.0.dat"
       ]
      },
      {
       "output_type": "stream",
       "stream": "stdout",
       "text": [
        "\n",
        "model_10.0_12.8_1.0.dat"
       ]
      },
      {
       "output_type": "stream",
       "stream": "stdout",
       "text": [
        "\n",
        "model_10.0_13.0_1.0.dat"
       ]
      },
      {
       "output_type": "stream",
       "stream": "stdout",
       "text": [
        "\n",
        "model_10.2_10.4_1.0.dat"
       ]
      },
      {
       "output_type": "stream",
       "stream": "stdout",
       "text": [
        "\n",
        "model_10.2_10.6_1.0.dat"
       ]
      },
      {
       "output_type": "stream",
       "stream": "stdout",
       "text": [
        "\n",
        "model_10.2_10.8_1.0.dat"
       ]
      },
      {
       "output_type": "stream",
       "stream": "stdout",
       "text": [
        "\n",
        "model_10.2_11.0_1.0.dat"
       ]
      },
      {
       "output_type": "stream",
       "stream": "stdout",
       "text": [
        "\n",
        "model_10.2_11.2_1.0.dat"
       ]
      },
      {
       "output_type": "stream",
       "stream": "stdout",
       "text": [
        "\n",
        "model_10.2_11.4_1.0.dat"
       ]
      },
      {
       "output_type": "stream",
       "stream": "stdout",
       "text": [
        "\n",
        "model_10.2_11.6_1.0.dat"
       ]
      },
      {
       "output_type": "stream",
       "stream": "stdout",
       "text": [
        "\n",
        "model_10.2_11.8_1.0.dat"
       ]
      },
      {
       "output_type": "stream",
       "stream": "stdout",
       "text": [
        "\n",
        "model_10.2_12.0_1.0.dat"
       ]
      },
      {
       "output_type": "stream",
       "stream": "stdout",
       "text": [
        "\n",
        "model_10.2_12.2_1.0.dat"
       ]
      },
      {
       "output_type": "stream",
       "stream": "stdout",
       "text": [
        "\n",
        "model_10.2_12.4_1.0.dat"
       ]
      },
      {
       "output_type": "stream",
       "stream": "stdout",
       "text": [
        "\n",
        "model_10.2_12.6_1.0.dat"
       ]
      },
      {
       "output_type": "stream",
       "stream": "stdout",
       "text": [
        "\n",
        "model_10.2_12.8_1.0.dat"
       ]
      },
      {
       "output_type": "stream",
       "stream": "stdout",
       "text": [
        "\n",
        "model_10.2_13.0_1.0.dat"
       ]
      },
      {
       "output_type": "stream",
       "stream": "stdout",
       "text": [
        "\n",
        "model_10.4_10.6_1.0.dat"
       ]
      },
      {
       "output_type": "stream",
       "stream": "stdout",
       "text": [
        "\n",
        "model_10.4_10.8_1.0.dat"
       ]
      },
      {
       "output_type": "stream",
       "stream": "stdout",
       "text": [
        "\n",
        "model_10.4_11.0_1.0.dat"
       ]
      },
      {
       "output_type": "stream",
       "stream": "stdout",
       "text": [
        "\n",
        "model_10.4_11.2_1.0.dat"
       ]
      },
      {
       "output_type": "stream",
       "stream": "stdout",
       "text": [
        "\n",
        "model_10.4_11.4_1.0.dat"
       ]
      },
      {
       "output_type": "stream",
       "stream": "stdout",
       "text": [
        "\n",
        "model_10.4_11.6_1.0.dat"
       ]
      },
      {
       "output_type": "stream",
       "stream": "stdout",
       "text": [
        "\n",
        "model_10.4_11.8_1.0.dat"
       ]
      },
      {
       "output_type": "stream",
       "stream": "stdout",
       "text": [
        "\n",
        "model_10.4_12.0_1.0.dat"
       ]
      },
      {
       "output_type": "stream",
       "stream": "stdout",
       "text": [
        "\n",
        "model_10.4_12.2_1.0.dat"
       ]
      },
      {
       "output_type": "stream",
       "stream": "stdout",
       "text": [
        "\n",
        "model_10.4_12.4_1.0.dat"
       ]
      },
      {
       "output_type": "stream",
       "stream": "stdout",
       "text": [
        "\n",
        "model_10.4_12.6_1.0.dat"
       ]
      },
      {
       "output_type": "stream",
       "stream": "stdout",
       "text": [
        "\n",
        "model_10.4_12.8_1.0.dat"
       ]
      },
      {
       "output_type": "stream",
       "stream": "stdout",
       "text": [
        "\n",
        "model_10.4_13.0_1.0.dat"
       ]
      },
      {
       "output_type": "stream",
       "stream": "stdout",
       "text": [
        "\n",
        "model_10.6_10.8_1.0.dat"
       ]
      },
      {
       "output_type": "stream",
       "stream": "stdout",
       "text": [
        "\n",
        "model_10.6_11.0_1.0.dat"
       ]
      },
      {
       "output_type": "stream",
       "stream": "stdout",
       "text": [
        "\n",
        "model_10.6_11.2_1.0.dat"
       ]
      },
      {
       "output_type": "stream",
       "stream": "stdout",
       "text": [
        "\n",
        "model_10.6_11.4_1.0.dat"
       ]
      },
      {
       "output_type": "stream",
       "stream": "stdout",
       "text": [
        "\n",
        "model_10.6_11.6_1.0.dat"
       ]
      },
      {
       "output_type": "stream",
       "stream": "stdout",
       "text": [
        "\n",
        "model_10.6_11.8_1.0.dat"
       ]
      },
      {
       "output_type": "stream",
       "stream": "stdout",
       "text": [
        "\n",
        "model_10.6_12.0_1.0.dat"
       ]
      },
      {
       "output_type": "stream",
       "stream": "stdout",
       "text": [
        "\n",
        "model_10.6_12.2_1.0.dat"
       ]
      },
      {
       "output_type": "stream",
       "stream": "stdout",
       "text": [
        "\n",
        "model_10.6_12.4_1.0.dat"
       ]
      },
      {
       "output_type": "stream",
       "stream": "stdout",
       "text": [
        "\n",
        "model_10.6_12.6_1.0.dat"
       ]
      },
      {
       "output_type": "stream",
       "stream": "stdout",
       "text": [
        "\n",
        "model_10.6_12.8_1.0.dat"
       ]
      },
      {
       "output_type": "stream",
       "stream": "stdout",
       "text": [
        "\n",
        "model_10.6_13.0_1.0.dat"
       ]
      },
      {
       "output_type": "stream",
       "stream": "stdout",
       "text": [
        "\n",
        "model_10.8_11.0_1.0.dat"
       ]
      },
      {
       "output_type": "stream",
       "stream": "stdout",
       "text": [
        "\n",
        "model_10.8_11.2_1.0.dat"
       ]
      },
      {
       "output_type": "stream",
       "stream": "stdout",
       "text": [
        "\n",
        "model_10.8_11.4_1.0.dat"
       ]
      },
      {
       "output_type": "stream",
       "stream": "stdout",
       "text": [
        "\n",
        "model_10.8_11.6_1.0.dat"
       ]
      },
      {
       "output_type": "stream",
       "stream": "stdout",
       "text": [
        "\n",
        "model_10.8_11.8_1.0.dat"
       ]
      },
      {
       "output_type": "stream",
       "stream": "stdout",
       "text": [
        "\n",
        "model_10.8_12.0_1.0.dat"
       ]
      },
      {
       "output_type": "stream",
       "stream": "stdout",
       "text": [
        "\n",
        "model_10.8_12.2_1.0.dat"
       ]
      },
      {
       "output_type": "stream",
       "stream": "stdout",
       "text": [
        "\n",
        "model_10.8_12.4_1.0.dat"
       ]
      },
      {
       "output_type": "stream",
       "stream": "stdout",
       "text": [
        "\n",
        "model_10.8_12.6_1.0.dat"
       ]
      },
      {
       "output_type": "stream",
       "stream": "stdout",
       "text": [
        "\n",
        "model_10.8_12.8_1.0.dat"
       ]
      },
      {
       "output_type": "stream",
       "stream": "stdout",
       "text": [
        "\n",
        "model_10.8_13.0_1.0.dat"
       ]
      },
      {
       "output_type": "stream",
       "stream": "stdout",
       "text": [
        "\n",
        "model_11.0_11.2_1.0.dat"
       ]
      },
      {
       "output_type": "stream",
       "stream": "stdout",
       "text": [
        "\n",
        "model_11.0_11.4_1.0.dat"
       ]
      },
      {
       "output_type": "stream",
       "stream": "stdout",
       "text": [
        "\n",
        "model_11.0_11.6_1.0.dat"
       ]
      },
      {
       "output_type": "stream",
       "stream": "stdout",
       "text": [
        "\n",
        "model_11.0_11.8_1.0.dat"
       ]
      },
      {
       "output_type": "stream",
       "stream": "stdout",
       "text": [
        "\n",
        "model_11.0_12.0_1.0.dat"
       ]
      },
      {
       "output_type": "stream",
       "stream": "stdout",
       "text": [
        "\n",
        "model_11.0_12.2_1.0.dat"
       ]
      },
      {
       "output_type": "stream",
       "stream": "stdout",
       "text": [
        "\n",
        "model_11.0_12.4_1.0.dat"
       ]
      },
      {
       "output_type": "stream",
       "stream": "stdout",
       "text": [
        "\n",
        "model_11.0_12.6_1.0.dat"
       ]
      },
      {
       "output_type": "stream",
       "stream": "stdout",
       "text": [
        "\n",
        "model_11.0_12.8_1.0.dat"
       ]
      },
      {
       "output_type": "stream",
       "stream": "stdout",
       "text": [
        "\n",
        "model_11.0_13.0_1.0.dat"
       ]
      },
      {
       "output_type": "stream",
       "stream": "stdout",
       "text": [
        "\n",
        "model_11.2_11.4_1.0.dat"
       ]
      },
      {
       "output_type": "stream",
       "stream": "stdout",
       "text": [
        "\n",
        "model_11.2_11.6_1.0.dat"
       ]
      },
      {
       "output_type": "stream",
       "stream": "stdout",
       "text": [
        "\n",
        "model_11.2_11.8_1.0.dat"
       ]
      },
      {
       "output_type": "stream",
       "stream": "stdout",
       "text": [
        "\n",
        "model_11.2_12.0_1.0.dat"
       ]
      },
      {
       "output_type": "stream",
       "stream": "stdout",
       "text": [
        "\n",
        "model_11.2_12.2_1.0.dat"
       ]
      },
      {
       "output_type": "stream",
       "stream": "stdout",
       "text": [
        "\n",
        "model_11.2_12.4_1.0.dat"
       ]
      },
      {
       "output_type": "stream",
       "stream": "stdout",
       "text": [
        "\n",
        "model_11.2_12.6_1.0.dat"
       ]
      },
      {
       "output_type": "stream",
       "stream": "stdout",
       "text": [
        "\n",
        "model_11.2_12.8_1.0.dat"
       ]
      },
      {
       "output_type": "stream",
       "stream": "stdout",
       "text": [
        "\n",
        "model_11.2_13.0_1.0.dat"
       ]
      },
      {
       "output_type": "stream",
       "stream": "stdout",
       "text": [
        "\n",
        "model_11.4_11.6_1.0.dat"
       ]
      },
      {
       "output_type": "stream",
       "stream": "stdout",
       "text": [
        "\n",
        "model_11.4_11.8_1.0.dat"
       ]
      },
      {
       "output_type": "stream",
       "stream": "stdout",
       "text": [
        "\n",
        "model_11.4_12.0_1.0.dat"
       ]
      },
      {
       "output_type": "stream",
       "stream": "stdout",
       "text": [
        "\n",
        "model_11.4_12.2_1.0.dat"
       ]
      },
      {
       "output_type": "stream",
       "stream": "stdout",
       "text": [
        "\n",
        "model_11.4_12.4_1.0.dat"
       ]
      },
      {
       "output_type": "stream",
       "stream": "stdout",
       "text": [
        "\n",
        "model_11.4_12.6_1.0.dat"
       ]
      },
      {
       "output_type": "stream",
       "stream": "stdout",
       "text": [
        "\n",
        "model_11.4_12.8_1.0.dat"
       ]
      },
      {
       "output_type": "stream",
       "stream": "stdout",
       "text": [
        "\n",
        "model_11.4_13.0_1.0.dat"
       ]
      },
      {
       "output_type": "stream",
       "stream": "stdout",
       "text": [
        "\n",
        "model_11.6_11.8_1.0.dat"
       ]
      },
      {
       "output_type": "stream",
       "stream": "stdout",
       "text": [
        "\n",
        "model_11.6_12.0_1.0.dat"
       ]
      },
      {
       "output_type": "stream",
       "stream": "stdout",
       "text": [
        "\n",
        "model_11.6_12.2_1.0.dat"
       ]
      },
      {
       "output_type": "stream",
       "stream": "stdout",
       "text": [
        "\n",
        "model_11.6_12.4_1.0.dat"
       ]
      },
      {
       "output_type": "stream",
       "stream": "stdout",
       "text": [
        "\n",
        "model_11.6_12.6_1.0.dat"
       ]
      },
      {
       "output_type": "stream",
       "stream": "stdout",
       "text": [
        "\n",
        "model_11.6_12.8_1.0.dat"
       ]
      },
      {
       "output_type": "stream",
       "stream": "stdout",
       "text": [
        "\n",
        "model_11.6_13.0_1.0.dat"
       ]
      },
      {
       "output_type": "stream",
       "stream": "stdout",
       "text": [
        "\n",
        "model_11.8_12.0_1.0.dat"
       ]
      },
      {
       "output_type": "stream",
       "stream": "stdout",
       "text": [
        "\n",
        "model_11.8_12.2_1.0.dat"
       ]
      },
      {
       "output_type": "stream",
       "stream": "stdout",
       "text": [
        "\n",
        "model_11.8_12.4_1.0.dat"
       ]
      },
      {
       "output_type": "stream",
       "stream": "stdout",
       "text": [
        "\n",
        "model_11.8_12.6_1.0.dat"
       ]
      },
      {
       "output_type": "stream",
       "stream": "stdout",
       "text": [
        "\n",
        "model_11.8_12.8_1.0.dat"
       ]
      },
      {
       "output_type": "stream",
       "stream": "stdout",
       "text": [
        "\n",
        "model_11.8_13.0_1.0.dat"
       ]
      },
      {
       "output_type": "stream",
       "stream": "stdout",
       "text": [
        "\n",
        "model_12.0_12.2_1.0.dat"
       ]
      },
      {
       "output_type": "stream",
       "stream": "stdout",
       "text": [
        "\n",
        "model_12.0_12.4_1.0.dat"
       ]
      },
      {
       "output_type": "stream",
       "stream": "stdout",
       "text": [
        "\n",
        "model_12.0_12.6_1.0.dat"
       ]
      },
      {
       "output_type": "stream",
       "stream": "stdout",
       "text": [
        "\n",
        "model_12.0_12.8_1.0.dat"
       ]
      },
      {
       "output_type": "stream",
       "stream": "stdout",
       "text": [
        "\n",
        "model_12.0_13.0_1.0.dat"
       ]
      },
      {
       "output_type": "stream",
       "stream": "stdout",
       "text": [
        "\n",
        "model_12.2_12.4_1.0.dat"
       ]
      },
      {
       "output_type": "stream",
       "stream": "stdout",
       "text": [
        "\n",
        "model_12.2_12.6_1.0.dat"
       ]
      },
      {
       "output_type": "stream",
       "stream": "stdout",
       "text": [
        "\n",
        "model_12.2_12.8_1.0.dat"
       ]
      },
      {
       "output_type": "stream",
       "stream": "stdout",
       "text": [
        "\n",
        "model_12.2_13.0_1.0.dat"
       ]
      },
      {
       "output_type": "stream",
       "stream": "stdout",
       "text": [
        "\n",
        "model_12.4_12.6_1.0.dat"
       ]
      },
      {
       "output_type": "stream",
       "stream": "stdout",
       "text": [
        "\n",
        "model_12.4_12.8_1.0.dat"
       ]
      },
      {
       "output_type": "stream",
       "stream": "stdout",
       "text": [
        "\n",
        "model_12.4_13.0_1.0.dat"
       ]
      },
      {
       "output_type": "stream",
       "stream": "stdout",
       "text": [
        "\n",
        "model_12.6_12.8_1.0.dat"
       ]
      },
      {
       "output_type": "stream",
       "stream": "stdout",
       "text": [
        "\n",
        "model_12.6_13.0_1.0.dat"
       ]
      },
      {
       "output_type": "stream",
       "stream": "stdout",
       "text": [
        "\n",
        "model_12.8_13.0_1.0.dat"
       ]
      },
      {
       "output_type": "stream",
       "stream": "stdout",
       "text": [
        "\n"
       ]
      }
     ],
     "prompt_number": 20
    },
    {
     "cell_type": "code",
     "collapsed": false,
     "input": [
      "plot((p_values))"
     ],
     "language": "python",
     "metadata": {},
     "outputs": [
      {
       "output_type": "pyout",
       "prompt_number": 218,
       "text": [
        "[<matplotlib.lines.Line2D at 0x10d6d2d10>]"
       ]
      },
      {
       "output_type": "display_data",
       "png": "[encoded data removed]",
       "text": [
        "<matplotlib.figure.Figure at 0x10d6c1890>"
       ]
      }
     ],
     "prompt_number": 218
    },
    {
     "cell_type": "code",
     "collapsed": false,
     "input": [],
     "language": "python",
     "metadata": {},
     "outputs": [],
     "prompt_number": 132
    },
    {
     "cell_type": "code",
     "collapsed": false,
     "input": [
      "print distance, prob"
     ],
     "language": "python",
     "metadata": {},
     "outputs": [
      {
       "output_type": "stream",
       "stream": "stdout",
       "text": [
        "0.916666666667 2.05310748316e-05\n"
       ]
      }
     ],
     "prompt_number": 141
    },
    {
     "cell_type": "code",
     "collapsed": false,
     "input": [
      "a=array([1,2,3,4,5])"
     ],
     "language": "python",
     "metadata": {},
     "outputs": [],
     "prompt_number": 166
    },
    {
     "cell_type": "code",
     "collapsed": false,
     "input": [
      "sum(a[1:1])"
     ],
     "language": "python",
     "metadata": {},
     "outputs": [
      {
       "output_type": "pyout",
       "prompt_number": 174,
       "text": [
        "0"
       ]
      }
     ],
     "prompt_number": 174
    },
    {
     "cell_type": "markdown",
     "metadata": {},
     "source": [
      "% "
     ]
    },
    {
     "cell_type": "code",
     "collapsed": false,
     "input": [],
     "language": "python",
     "metadata": {},
     "outputs": []
    }
   ],
   "metadata": {}
  }
 ]
}